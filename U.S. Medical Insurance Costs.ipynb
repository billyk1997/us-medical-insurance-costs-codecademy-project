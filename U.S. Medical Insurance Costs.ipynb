{
 "cells": [
  {
   "cell_type": "markdown",
   "metadata": {},
   "source": [
    "# U.S. Medical Insurance Costs"
   ]
  },
  {
   "cell_type": "markdown",
   "metadata": {},
   "source": [
    "In this project, I will investigate medical insurance data using Python fundamnetals. I will analyze various attributes within the file **insurance.csv** to learn more about the data and gain insight into potential use cases."
   ]
  },
  {
   "cell_type": "code",
   "execution_count": 3,
   "metadata": {},
   "outputs": [],
   "source": [
    "import csv"
   ]
  },
  {
   "cell_type": "markdown",
   "metadata": {},
   "source": [
    "To start, I import my libraries. For this project, I only need to use the **csv** library to work with the data.\n",
    "\n",
    "Next, I will look through the data to acquaint myself with it. This will allow me to think more critically about my analysis and plan how I will import the data into my program"
   ]
  },
  {
   "cell_type": "code",
   "execution_count": 4,
   "metadata": {},
   "outputs": [],
   "source": [
    "ages = []\n",
    "sexes = []\n",
    "bmis = []\n",
    "num_children = []\n",
    "smoker_statuses = []\n",
    "regions = []\n",
    "insurance_charges = []"
   ]
  },
  {
   "cell_type": "markdown",
   "metadata": {},
   "source": [
    "The data file contains the following columns:\n",
    "* Age\n",
    "* Sex\n",
    "* BMI\n",
    "* Number of children\n",
    "* Smoking status\n",
    "* U.S. geographic region\n",
    "* Yearly insurance cost\n",
    "\n",
    "There are no signs of missing data. Knowing this, I decided to create seven empty lists to hold the data from each column."
   ]
  },
  {
   "cell_type": "code",
   "execution_count": 3,
   "metadata": {},
   "outputs": [],
   "source": [
    "def load_list_data(lst, csv_file, column_name):\n",
    "    with open(csv_file) as csv_info: # Opens the csv file\n",
    "        csv_dict = csv.DictReader(csv_info) # Reads data\n",
    "        for row in csv_dict: # Loops through data in each row\n",
    "            lst.append(row[column_name]) # Adds data to a list\n",
    "        return lst # Returns list"
   ]
  },
  {
   "cell_type": "markdown",
   "metadata": {},
   "source": [
    "I decided to build this helper function to make the loading of data into my lists as efficient as possible. Without this function I would need seven for-loops. With this function, I simply need to call the function seven times:"
   ]
  },
  {
   "cell_type": "code",
   "execution_count": null,
   "metadata": {},
   "outputs": [],
   "source": [
    "load_list_data(ages, 'insurance.csv', 'age')\n",
    "load_list_data(sexes, 'insurance.csv', 'sex')\n",
    "load_list_data(bmis, 'insurance.csv', 'bmi')\n",
    "load_list_data(num_children, 'insurance.csv', 'children')\n",
    "load_list_data(smoker_statuses, 'insurance.csv', 'smoker')\n",
    "load_list_data(regions, 'insurance.csv', 'region')\n",
    "load_list_data(insurance_charges, 'insurance.csv', 'charges')"
   ]
  },
  {
   "cell_type": "markdown",
   "metadata": {},
   "source": [
    "The data are now neatly organized into labeled lists. I can now begin my analysis. This is where I must plan out what I want to investigate and how to perform the analysis. I have decided to perform the following analyses:\n",
    "\n",
    "* Find the average age of patients\n",
    "* Count the number of males and females in the dataset\n",
    "* Find the geographic locations of patients\n",
    "* Find the average yearly medical charge of the patients\n",
    "* Create a dictionary containing all patient information\n",
    "\n",
    "To perform these inspections, I built a class called `PatientsInfo` that contains five methods:\n",
    "* `analyze_ages()`\n",
    "* `analyze_sexes()`\n",
    "* `unique_regions()`\n",
    "* `average_charges()`\n",
    "* `create_dictionary()`"
   ]
  },
  {
   "cell_type": "code",
   "execution_count": 5,
   "metadata": {},
   "outputs": [],
   "source": [
    "class PatientsInfo:\n",
    "    \n",
    "    def __init__(self, patients_ages, patients_sexes, patients_bmis, patients_num_children, \n",
    "                 patients_smoker_statuses, patients_regions, patients_charges):\n",
    "        self.patients_ages = patients_ages\n",
    "        self.patients_sexes = patients_sexes\n",
    "        self.patients_bmis = patients_bmis\n",
    "        self.patients_num_children = patients_num_children\n",
    "        self.patients_smoker_statuses = patients_smoker_statuses\n",
    "        self.patients_regions = patients_regions\n",
    "        self.patients_charges = patients_charges\n",
    "        \n",
    "    def analyze_ages(self):\n",
    "        total_age = 0\n",
    "        for age in self.patients_ages:\n",
    "            total_age += int(age)\n",
    "        return(\"Average Patient Age:\", str(round(total_age/len(self.patients_ages), 2)), \"years\")\n",
    "    \n",
    "    def analyze_sexes(self):\n",
    "        females = 0\n",
    "        males = 0\n",
    "        for sex in self.patients_sexes:\n",
    "            if sex == 'female':\n",
    "                females += 1\n",
    "            else:\n",
    "                males += 1\n",
    "        print(\"Number of females:\", females)\n",
    "        print(\"Number of males:\", males)\n",
    "        \n",
    "    def unique_regions(self):\n",
    "        unique_regions = []\n",
    "        for region in self.patients_regions:\n",
    "            if region not in unique_regions:\n",
    "                unique_regions.append(region)\n",
    "        return unique_regions\n",
    "    \n",
    "    def average_charges(self):\n",
    "        total_charges = 0\n",
    "        for charge in self.patients_charges:\n",
    "            total_charges += float(charge)\n",
    "        return(\"Average Annual Medical Insurance Charges:\", str(round(total_charges/len(self.patients_charges), 2)), \"dollars.\")\n",
    "    \n",
    "    def create_dictionary(self):\n",
    "        self.patients_dictionary = {}\n",
    "        self.patients_dictionary[\"age\"] = [int(age) for age in self.patients_ages]\n",
    "        self.patients_dictionary[\"sex\"] = self.patients_sexes\n",
    "        self.patients_dictionary[\"bmi\"] = self.patients_bmis\n",
    "        self.patients_dictionary[\"children\"] = self.patients_num_children\n",
    "        self.patients_dictionary[\"smoker\"] = self.patients_smoker_statuses\n",
    "        self.patients_dictionary[\"regions\"] = self.patients_regions\n",
    "        self.patients_dictionary[\"charges\"] = self.patients_charges\n",
    "        return self.patients_dictionary"
   ]
  },
  {
   "cell_type": "markdown",
   "metadata": {},
   "source": [
    "I then create an instance of the class `patient_info`. With this instance, I use each method to see the results of my analysis and interpret my findings."
   ]
  },
  {
   "cell_type": "code",
   "execution_count": 6,
   "metadata": {},
   "outputs": [],
   "source": [
    "patient_info = PatientsInfo(ages, sexes, bmis, num_children, smoker_statuses, regions, insurance_charges)"
   ]
  },
  {
   "cell_type": "code",
   "execution_count": 7,
   "metadata": {},
   "outputs": [
    {
     "data": {
      "text/plain": [
       "('Average Patient Age:', '39.21', 'years')"
      ]
     },
     "execution_count": 7,
     "metadata": {},
     "output_type": "execute_result"
    }
   ],
   "source": [
    "patient_info.analyze_ages()"
   ]
  },
  {
   "cell_type": "markdown",
   "metadata": {},
   "source": [
    "The average patient's age in the dataset is about 39 years old. This is important to check because we want to know if our data are representative of a broad population. If we want to use these data to make inferences about other populations, we must ensure that the data is abundant and broad enough to make such inferences.\n",
    "\n",
    "We would have to conduct further analyses to ensure that the range and standard deviation of the patient age group is indicative of a random sample of individuals."
   ]
  },
  {
   "cell_type": "code",
   "execution_count": 8,
   "metadata": {},
   "outputs": [
    {
     "name": "stdout",
     "output_type": "stream",
     "text": [
      "Number of females: 662\n",
      "Number of males: 676\n"
     ]
    }
   ],
   "source": [
    "patient_info.analyze_sexes()"
   ]
  },
  {
   "cell_type": "markdown",
   "metadata": {},
   "source": [
    "For reasons similar to those stated above, it is important to check the gender balance of the data to ensure that they are representative of a braod population. Often, real-world data are unbalanced, which can lead to statistical issues when performing analyses."
   ]
  },
  {
   "cell_type": "code",
   "execution_count": 9,
   "metadata": {},
   "outputs": [
    {
     "data": {
      "text/plain": [
       "['southwest', 'southeast', 'northwest', 'northeast']"
      ]
     },
     "execution_count": 9,
     "metadata": {},
     "output_type": "execute_result"
    }
   ],
   "source": [
    "patient_info.unique_regions()"
   ]
  },
  {
   "cell_type": "markdown",
   "metadata": {},
   "source": [
    "There are four unique geographic regions in this dataset. All patients come from the United States."
   ]
  },
  {
   "cell_type": "code",
   "execution_count": 10,
   "metadata": {},
   "outputs": [
    {
     "data": {
      "text/plain": [
       "('Average Annual Medical Insurance Charges:', '13270.42', 'dollars.')"
      ]
     },
     "execution_count": 10,
     "metadata": {},
     "output_type": "execute_result"
    }
   ],
   "source": [
    "patient_info.average_charges()"
   ]
  },
  {
   "cell_type": "markdown",
   "metadata": {},
   "source": [
    "The average yearly medical insurance cost per individual is USD 13270. Further analysis can be done to see which patient attributes contribute most strongly to lower or higher insurance charges. For example, one could check to see if patient age correlates with their insurance charge."
   ]
  },
  {
   "cell_type": "code",
   "execution_count": null,
   "metadata": {
    "scrolled": false
   },
   "outputs": [],
   "source": [
    "patient_info.create_dictionary()"
   ]
  },
  {
   "cell_type": "markdown",
   "metadata": {},
   "source": [
    "All patient data is now neatly organized into a dictionary. This is convenient for further analysis if I decide to continue investigating the dataset."
   ]
  }
 ],
 "metadata": {
  "kernelspec": {
   "display_name": "Python 3",
   "language": "python",
   "name": "python3"
  },
  "language_info": {
   "codemirror_mode": {
    "name": "ipython",
    "version": 3
   },
   "file_extension": ".py",
   "mimetype": "text/x-python",
   "name": "python",
   "nbconvert_exporter": "python",
   "pygments_lexer": "ipython3",
   "version": "3.8.3"
  }
 },
 "nbformat": 4,
 "nbformat_minor": 4
}
