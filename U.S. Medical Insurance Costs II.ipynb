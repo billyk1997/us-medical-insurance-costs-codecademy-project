{
 "cells": [
  {
   "cell_type": "markdown",
   "metadata": {},
   "source": [
    "# U.S. Medical Insurance Costs II"
   ]
  },
  {
   "cell_type": "markdown",
   "metadata": {},
   "source": [
    "In this project, I will continue my investigation of **insurance.csv** using the `pandas` module to perform more complex operations on the dataset. Specifically, I will work to determine which region of the United States has the highest average insurance charges and work to determine some reasons as to why this is the case."
   ]
  },
  {
   "cell_type": "code",
   "execution_count": 1,
   "metadata": {},
   "outputs": [],
   "source": [
    "import pandas as pd\n",
    "from scipy import stats"
   ]
  },
  {
   "cell_type": "markdown",
   "metadata": {},
   "source": [
    "As in the previous project, the first step is to import our modules. However, I will be using the `pandas` module rather than the `csv` module to conduct my analysis. I will also be using `scipy` to perform a statistical analysis in the latter part of this document.\n",
    "\n",
    "\n",
    "The next step is to use `pandas` to read our file. Unlike with `csv`, this is simple one-line command. We will then use the `head()` function to examine the first few rows of the data."
   ]
  },
  {
   "cell_type": "code",
   "execution_count": 2,
   "metadata": {},
   "outputs": [
    {
     "name": "stdout",
     "output_type": "stream",
     "text": [
      "   age     sex     bmi  children smoker     region      charges\n",
      "0   19  female  27.900         0    yes  southwest  16884.92400\n",
      "1   18    male  33.770         1     no  southeast   1725.55230\n",
      "2   28    male  33.000         3     no  southeast   4449.46200\n",
      "3   33    male  22.705         0     no  northwest  21984.47061\n",
      "4   32    male  28.880         0     no  northwest   3866.85520\n"
     ]
    }
   ],
   "source": [
    "insurance = pd.read_csv('insurance.csv')\n",
    "\n",
    "print(insurance.head(5))"
   ]
  },
  {
   "cell_type": "markdown",
   "metadata": {},
   "source": [
    "The column `charges` contains the information that we want to work with. To determine which region has the highest average insurance cost, group the charges by region and find the mean of each of these four groups."
   ]
  },
  {
   "cell_type": "code",
   "execution_count": 3,
   "metadata": {},
   "outputs": [
    {
     "data": {
      "text/html": [
       "<div>\n",
       "<style scoped>\n",
       "    .dataframe tbody tr th:only-of-type {\n",
       "        vertical-align: middle;\n",
       "    }\n",
       "\n",
       "    .dataframe tbody tr th {\n",
       "        vertical-align: top;\n",
       "    }\n",
       "\n",
       "    .dataframe thead th {\n",
       "        text-align: right;\n",
       "    }\n",
       "</style>\n",
       "<table border=\"1\" class=\"dataframe\">\n",
       "  <thead>\n",
       "    <tr style=\"text-align: right;\">\n",
       "      <th></th>\n",
       "      <th>region</th>\n",
       "      <th>charges</th>\n",
       "    </tr>\n",
       "  </thead>\n",
       "  <tbody>\n",
       "    <tr>\n",
       "      <th>3</th>\n",
       "      <td>southwest</td>\n",
       "      <td>12346.937377</td>\n",
       "    </tr>\n",
       "    <tr>\n",
       "      <th>1</th>\n",
       "      <td>northwest</td>\n",
       "      <td>12417.575374</td>\n",
       "    </tr>\n",
       "    <tr>\n",
       "      <th>0</th>\n",
       "      <td>northeast</td>\n",
       "      <td>13406.384516</td>\n",
       "    </tr>\n",
       "    <tr>\n",
       "      <th>2</th>\n",
       "      <td>southeast</td>\n",
       "      <td>14735.411438</td>\n",
       "    </tr>\n",
       "  </tbody>\n",
       "</table>\n",
       "</div>"
      ],
      "text/plain": [
       "      region       charges\n",
       "3  southwest  12346.937377\n",
       "1  northwest  12417.575374\n",
       "0  northeast  13406.384516\n",
       "2  southeast  14735.411438"
      ]
     },
     "execution_count": 3,
     "metadata": {},
     "output_type": "execute_result"
    }
   ],
   "source": [
    "region_charges = insurance.groupby('region').charges.mean().reset_index()\n",
    "region_charges.sort_values(by = ['charges'])"
   ]
  },
  {
   "cell_type": "markdown",
   "metadata": {},
   "source": [
    "This table tells us that, with an average charge of about 14,735 dollars, patients in the southeast have the highest insurance costs in the country. Patients in the northwest have the lowest average charge at about 12,417 dollars. Why?\n",
    "\n",
    "To determine the possible reasons behind this phenomenon, I will now examine the following factors that determine an individual's health insurance charges and determine if these factors, taken in aggregate, strongly influence the average insurance charge in a given region. These factors are:\n",
    "\n",
    "* Age (older people consume more healthcare and thus have higher charges)\n",
    "* Sex (women tend to consume more healthcare than men)\n",
    "* BMI (overweight and obese people experience more health problems)\n",
    "* Number of children (parents must pay for their children's healthcare as well as their own)\n",
    "* Smoking status (smokers experience far more health problems than non-smokers)\n",
    "\n",
    "I will start with age. Since age is numeric, I can perform an analysis similar to the above to determine the average age of patients in each region:"
   ]
  },
  {
   "cell_type": "code",
   "execution_count": 4,
   "metadata": {
    "scrolled": true
   },
   "outputs": [
    {
     "data": {
      "text/html": [
       "<div>\n",
       "<style scoped>\n",
       "    .dataframe tbody tr th:only-of-type {\n",
       "        vertical-align: middle;\n",
       "    }\n",
       "\n",
       "    .dataframe tbody tr th {\n",
       "        vertical-align: top;\n",
       "    }\n",
       "\n",
       "    .dataframe thead th {\n",
       "        text-align: right;\n",
       "    }\n",
       "</style>\n",
       "<table border=\"1\" class=\"dataframe\">\n",
       "  <thead>\n",
       "    <tr style=\"text-align: right;\">\n",
       "      <th></th>\n",
       "      <th>region</th>\n",
       "      <th>age</th>\n",
       "    </tr>\n",
       "  </thead>\n",
       "  <tbody>\n",
       "    <tr>\n",
       "      <th>2</th>\n",
       "      <td>southeast</td>\n",
       "      <td>38.939560</td>\n",
       "    </tr>\n",
       "    <tr>\n",
       "      <th>1</th>\n",
       "      <td>northwest</td>\n",
       "      <td>39.196923</td>\n",
       "    </tr>\n",
       "    <tr>\n",
       "      <th>0</th>\n",
       "      <td>northeast</td>\n",
       "      <td>39.268519</td>\n",
       "    </tr>\n",
       "    <tr>\n",
       "      <th>3</th>\n",
       "      <td>southwest</td>\n",
       "      <td>39.455385</td>\n",
       "    </tr>\n",
       "  </tbody>\n",
       "</table>\n",
       "</div>"
      ],
      "text/plain": [
       "      region        age\n",
       "2  southeast  38.939560\n",
       "1  northwest  39.196923\n",
       "0  northeast  39.268519\n",
       "3  southwest  39.455385"
      ]
     },
     "execution_count": 4,
     "metadata": {},
     "output_type": "execute_result"
    }
   ],
   "source": [
    "region_age = insurance.groupby('region').age.mean().reset_index()\n",
    "region_age.sort_values(by = ['age'])"
   ]
  },
  {
   "cell_type": "markdown",
   "metadata": {},
   "source": [
    "This table shows that, on average, patients in all four regions are around 39 years old. It is therefore reasonable to assume that the average age of patients in each region has a minimal effect on the average insurance charges in that region.\n",
    "\n",
    "I will now calculate the number of men and women in each region. This will be different than the above calculations since the sex data are not numeric but rather are stored as either \"male\" or \"female.\"\n",
    "\n",
    "First, I will create two DataFrames: `males` and `females`:"
   ]
  },
  {
   "cell_type": "code",
   "execution_count": 5,
   "metadata": {},
   "outputs": [],
   "source": [
    "males = insurance[insurance.sex == 'male']\n",
    "females = insurance[insurance.sex == 'female']"
   ]
  },
  {
   "cell_type": "markdown",
   "metadata": {},
   "source": [
    "I will then count the number of males and females in each region:"
   ]
  },
  {
   "cell_type": "code",
   "execution_count": 6,
   "metadata": {},
   "outputs": [
    {
     "name": "stdout",
     "output_type": "stream",
     "text": [
      "There are 163 males and 161 females in the Northeast region.\n",
      "There are 161 males and 164 females in the Northwest region.\n",
      "There are 189 males and 175 females in the Southeast region.\n",
      "There are 163 males and 162 females in the Southwest region.\n"
     ]
    }
   ],
   "source": [
    "count_males_NE = males[males['region'] == 'northeast'].count()[0]\n",
    "count_males_NW = males[males['region'] == 'northwest'].count()[0]\n",
    "count_males_SE = males[males['region'] == 'southeast'].count()[0]\n",
    "count_males_SW = males[males['region'] == 'southwest'].count()[0]\n",
    "\n",
    "count_females_NE = females[females['region'] == 'northeast'].count()[0]\n",
    "count_females_NW = females[females['region'] == 'northwest'].count()[0]\n",
    "count_females_SE = females[females['region'] == 'southeast'].count()[0]\n",
    "count_females_SW = females[females['region'] == 'southwest'].count()[0]\n",
    "\n",
    "print(\"There are\", count_males_NE, \"males and\", count_females_NE, \"females in the Northeast region.\")\n",
    "print(\"There are\", count_males_NW, \"males and\", count_females_NW, \"females in the Northwest region.\")\n",
    "print(\"There are\", count_males_SE, \"males and\", count_females_SE, \"females in the Southeast region.\")\n",
    "print(\"There are\", count_males_SW, \"males and\", count_females_SW, \"females in the Southwest region.\")"
   ]
  },
  {
   "cell_type": "markdown",
   "metadata": {},
   "source": [
    "These data show that most regions have gender parity with respect to the patients in this dataset. However, in the Southeast, we see there are noticeably more men than women. It is possible that this may contribute to the higher average cost of insurance in that region.\n",
    "\n",
    "I will continue my analysis by examining the average BMIs of patients in each region:"
   ]
  },
  {
   "cell_type": "code",
   "execution_count": 7,
   "metadata": {},
   "outputs": [
    {
     "data": {
      "text/html": [
       "<div>\n",
       "<style scoped>\n",
       "    .dataframe tbody tr th:only-of-type {\n",
       "        vertical-align: middle;\n",
       "    }\n",
       "\n",
       "    .dataframe tbody tr th {\n",
       "        vertical-align: top;\n",
       "    }\n",
       "\n",
       "    .dataframe thead th {\n",
       "        text-align: right;\n",
       "    }\n",
       "</style>\n",
       "<table border=\"1\" class=\"dataframe\">\n",
       "  <thead>\n",
       "    <tr style=\"text-align: right;\">\n",
       "      <th></th>\n",
       "      <th>region</th>\n",
       "      <th>bmi</th>\n",
       "    </tr>\n",
       "  </thead>\n",
       "  <tbody>\n",
       "    <tr>\n",
       "      <th>0</th>\n",
       "      <td>northeast</td>\n",
       "      <td>29.173503</td>\n",
       "    </tr>\n",
       "    <tr>\n",
       "      <th>1</th>\n",
       "      <td>northwest</td>\n",
       "      <td>29.199785</td>\n",
       "    </tr>\n",
       "    <tr>\n",
       "      <th>3</th>\n",
       "      <td>southwest</td>\n",
       "      <td>30.596615</td>\n",
       "    </tr>\n",
       "    <tr>\n",
       "      <th>2</th>\n",
       "      <td>southeast</td>\n",
       "      <td>33.355989</td>\n",
       "    </tr>\n",
       "  </tbody>\n",
       "</table>\n",
       "</div>"
      ],
      "text/plain": [
       "      region        bmi\n",
       "0  northeast  29.173503\n",
       "1  northwest  29.199785\n",
       "3  southwest  30.596615\n",
       "2  southeast  33.355989"
      ]
     },
     "execution_count": 7,
     "metadata": {},
     "output_type": "execute_result"
    }
   ],
   "source": [
    "region_bmi = insurance.groupby('region').bmi.mean().reset_index()\n",
    "region_bmi.sort_values(by = ['bmi'])"
   ]
  },
  {
   "cell_type": "markdown",
   "metadata": {},
   "source": [
    "This table shows that the southeast region has the highest average BMI out of the four regions listed in the data. Since we know that a high BMI is positively correlated to increased medical complications, it is reasonable to assume that this contributes to the high average cost of insurance in the Southeast.\n",
    "\n",
    "Interestingly, although the northeast has the lowest average BMI, they have the second-highest average insurance cost. This indicates that there is another factor influencing the charges of patients in the northeast region.\n",
    "\n",
    "I will continue my analysis by examining the average number of children patients in each region have."
   ]
  },
  {
   "cell_type": "code",
   "execution_count": 8,
   "metadata": {},
   "outputs": [
    {
     "data": {
      "text/html": [
       "<div>\n",
       "<style scoped>\n",
       "    .dataframe tbody tr th:only-of-type {\n",
       "        vertical-align: middle;\n",
       "    }\n",
       "\n",
       "    .dataframe tbody tr th {\n",
       "        vertical-align: top;\n",
       "    }\n",
       "\n",
       "    .dataframe thead th {\n",
       "        text-align: right;\n",
       "    }\n",
       "</style>\n",
       "<table border=\"1\" class=\"dataframe\">\n",
       "  <thead>\n",
       "    <tr style=\"text-align: right;\">\n",
       "      <th></th>\n",
       "      <th>region</th>\n",
       "      <th>children</th>\n",
       "    </tr>\n",
       "  </thead>\n",
       "  <tbody>\n",
       "    <tr>\n",
       "      <th>0</th>\n",
       "      <td>northeast</td>\n",
       "      <td>1.046296</td>\n",
       "    </tr>\n",
       "    <tr>\n",
       "      <th>2</th>\n",
       "      <td>southeast</td>\n",
       "      <td>1.049451</td>\n",
       "    </tr>\n",
       "    <tr>\n",
       "      <th>3</th>\n",
       "      <td>southwest</td>\n",
       "      <td>1.141538</td>\n",
       "    </tr>\n",
       "    <tr>\n",
       "      <th>1</th>\n",
       "      <td>northwest</td>\n",
       "      <td>1.147692</td>\n",
       "    </tr>\n",
       "  </tbody>\n",
       "</table>\n",
       "</div>"
      ],
      "text/plain": [
       "      region  children\n",
       "0  northeast  1.046296\n",
       "2  southeast  1.049451\n",
       "3  southwest  1.141538\n",
       "1  northwest  1.147692"
      ]
     },
     "execution_count": 8,
     "metadata": {},
     "output_type": "execute_result"
    }
   ],
   "source": [
    "region_children = insurance.groupby('region').children.mean().reset_index()\n",
    "region_children.sort_values(by = ['children'])"
   ]
  },
  {
   "cell_type": "markdown",
   "metadata": {},
   "source": [
    "These data indicate that patients in all four regions have, on average, one child. This means that it is unlikely that the number of children patients in each region have on average contributes to the average cost of insurance in each region.\n",
    "\n",
    "Finally, we will calculate the percentage of smokers versus non-smokers in each regions. The procedure for this analysis will be similar to that of the sex analysis found above. First, we create two DataFrames, `smokers` and `non_smokers`."
   ]
  },
  {
   "cell_type": "code",
   "execution_count": 9,
   "metadata": {},
   "outputs": [],
   "source": [
    "smokers = insurance[insurance.smoker == 'yes']\n",
    "non_smokers = insurance[insurance.smoker == 'no']"
   ]
  },
  {
   "cell_type": "markdown",
   "metadata": {},
   "source": [
    "I will then count the number of smokers and non-smokers in each region:"
   ]
  },
  {
   "cell_type": "code",
   "execution_count": 10,
   "metadata": {},
   "outputs": [],
   "source": [
    "count_smokers_NE = smokers[smokers['region'] == 'northeast'].count()[0]\n",
    "count_smokers_NW = smokers[smokers['region'] == 'northwest'].count()[0]\n",
    "count_smokers_SE = smokers[smokers['region'] == 'southeast'].count()[0]\n",
    "count_smokers_SW = smokers[smokers['region'] == 'southwest'].count()[0]\n",
    "\n",
    "count_non_smokers_NE = smokers[smokers['region'] == 'northeast'].count()[0]\n",
    "count_non_smokers_NW = smokers[smokers['region'] == 'northwest'].count()[0]\n",
    "count_non_smokers_SE = smokers[smokers['region'] == 'southeast'].count()[0]\n",
    "count_non_smokers_SW = smokers[smokers['region'] == 'southwest'].count()[0]"
   ]
  },
  {
   "cell_type": "markdown",
   "metadata": {},
   "source": [
    "Finally, I can use these values to calculate the percentage of smokers and non-smokers in each region:"
   ]
  },
  {
   "cell_type": "code",
   "execution_count": 11,
   "metadata": {},
   "outputs": [
    {
     "name": "stdout",
     "output_type": "stream",
     "text": [
      "50.0 percent of patients in the Northeast region are smokers.\n",
      "50.0 percent of patients in the Northwest region are smokers.\n",
      "50.0 percent of patients in the Southeast region are smokers.\n",
      "50.0 percent of patients in the Southwest region are smokers.\n"
     ]
    }
   ],
   "source": [
    "percent_smokers_NE = count_smokers_NE / (count_smokers_NE + count_non_smokers_NE)\n",
    "percent_smokers_NW = count_smokers_NW / (count_smokers_NW + count_non_smokers_NW)\n",
    "percent_smokers_SE = count_smokers_SE / (count_smokers_SE + count_non_smokers_SE)\n",
    "percent_smokers_SW = count_smokers_SW / (count_smokers_SW + count_non_smokers_SW)\n",
    "\n",
    "print((percent_smokers_NE * 100), \"percent of patients in the Northeast region are smokers.\")\n",
    "print((percent_smokers_NW * 100), \"percent of patients in the Northwest region are smokers.\")\n",
    "print((percent_smokers_SE * 100), \"percent of patients in the Southeast region are smokers.\")\n",
    "print((percent_smokers_SW * 100), \"percent of patients in the Southwest region are smokers.\")"
   ]
  },
  {
   "cell_type": "markdown",
   "metadata": {},
   "source": [
    "These data show that exactly half of the patients in each of the four regions are smokers. This indicates that the percentage of smokers in a given region likely does not influence the average cost of insurance in that region.\n",
    "\n",
    "Based on these analyses, we can conclude that the high average BMI found in the Southeast region of the United States contributes strongly to that region's high average insurance charges. However, to be more certain of this assertion, we must perform a correlation analysis.\n",
    "\n",
    "We will state out hypothesis as, \"there exists a positive correlation between the average body mass index of patients in a given region of the United States and the average insurance costs paid by patients in the same region.\"\n",
    "\n",
    "Thus, for the purpose of this analysis, we will consider BMI our *x*-variable or *independent* variable and insurance cost to be our *y*-variable or *dependent* variable.\n",
    "\n",
    "`pandas` has a built-in command that can be used to calculate the correlation between two DataFrames. First, we will create a DataFrame, `patients_SE`, representing only patients in the Southeast region. Then, we will use `stats` to determine the correlation between the `bmi` column and the `charges` column and the p-value: "
   ]
  },
  {
   "cell_type": "code",
   "execution_count": 12,
   "metadata": {},
   "outputs": [
    {
     "data": {
      "text/plain": [
       "(0.14299437709291668, 0.006279223366651962)"
      ]
     },
     "execution_count": 12,
     "metadata": {},
     "output_type": "execute_result"
    }
   ],
   "source": [
    "patients_SE = insurance[insurance['region'] == 'southeast']\n",
    "\n",
    "bmis = patients_SE['bmi']\n",
    "charges = patients_SE['charges']\n",
    "\n",
    "stats.pearsonr(charges, bmis)"
   ]
  },
  {
   "cell_type": "markdown",
   "metadata": {},
   "source": [
    "The correlation coefficient is approximately 0.14 and the p-value is approximately 0.006. Since the p-value is less than 0.05, this means that our results are statistically significant. That is, is it likely that high BMIs among patients in the Southeast are contributing to their high average insurance costs."
   ]
  }
 ],
 "metadata": {
  "kernelspec": {
   "display_name": "Python 3",
   "language": "python",
   "name": "python3"
  },
  "language_info": {
   "codemirror_mode": {
    "name": "ipython",
    "version": 3
   },
   "file_extension": ".py",
   "mimetype": "text/x-python",
   "name": "python",
   "nbconvert_exporter": "python",
   "pygments_lexer": "ipython3",
   "version": "3.8.3"
  }
 },
 "nbformat": 4,
 "nbformat_minor": 4
}
